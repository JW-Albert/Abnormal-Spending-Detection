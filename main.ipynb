{
 "cells": [
  {
   "cell_type": "markdown",
   "id": "e7e51d46",
   "metadata": {},
   "source": [
    "## 匯入套件"
   ]
  },
  {
   "cell_type": "code",
   "execution_count": 1,
   "id": "49a80d91",
   "metadata": {},
   "outputs": [],
   "source": [
    "# Ensure numpy is installed\n",
    "import os\n",
    "import pandas as pd\n",
    "import numpy as np\n",
    "from scipy.stats import kurtosis, skew\n",
    "from scipy.fft import fft\n",
    "from sklearn.preprocessing import StandardScaler\n",
    "from sklearn.decomposition import PCA\n",
    "from sklearn.discriminant_analysis import LinearDiscriminantAnalysis as LDA\n",
    "from sklearn.linear_model import LogisticRegression\n",
    "from sklearn.metrics import accuracy_score, precision_score, recall_score, f1_score, confusion_matrix\n",
    "import matplotlib.pyplot as plt\n",
    "import seaborn as sns"
   ]
  },
  {
   "cell_type": "markdown",
   "id": "c67b37b0",
   "metadata": {},
   "source": [
    "## 檔案讀取"
   ]
  },
  {
   "cell_type": "code",
   "execution_count": 2,
   "id": "4db36c8f",
   "metadata": {},
   "outputs": [],
   "source": [
    "def read_csv(file_path) -> pd.DataFrame:\n",
    "    \"\"\"\n",
    "    Reads a CSV file and returns a pd DataFrame.\n",
    "    \"\"\"\n",
    "    return pd.read_csv(file_path)"
   ]
  },
  {
   "cell_type": "markdown",
   "id": "7438836e",
   "metadata": {},
   "source": [
    "## 項目讀取"
   ]
  },
  {
   "cell_type": "code",
   "execution_count": 4,
   "id": "e44cc32b",
   "metadata": {},
   "outputs": [],
   "source": [
    "def get_item(df: pd.DataFrame) -> list:\n",
    "    \"\"\"\n",
    "    Returns a list of unique items from the 'Item' column in the DataFrame.\n",
    "    \"\"\"\n",
    "    if 'Item' not in df.columns:\n",
    "        raise ValueError(\"DataFrame does not contain 'Item' column.\")\n",
    "    \n",
    "    item_list = sorted(df['Item'].dropna().unique().tolist())\n",
    "    return item_list\n",
    "\n",
    "def get_quantity(df: pd.DataFrame) -> list:\n",
    "    \"\"\"\n",
    "    Returns a list of unique items from the 'Quantitytem' column in the DataFrame.\n",
    "    \"\"\"\n",
    "    if 'Quantity' not in df.columns:\n",
    "        raise ValueError(\"DataFrame does not contain 'Quantity' column.\")\n",
    "    \n",
    "    item_list = sorted(df['Quantity'].dropna().unique().tolist())\n",
    "    return item_list\n",
    "\n",
    "def get_Category(df: pd.DataFrame) -> list:\n",
    "    \"\"\"\n",
    "    Returns a list of unique items from the 'Category' column in the DataFrame.\n",
    "    \"\"\"\n",
    "    if 'Category' not in df.columns:\n",
    "        raise ValueError(\"DataFrame does not contain 'Category' column.\")\n",
    "    \n",
    "    item_list = sorted(df['Category'].dropna().unique().tolist())\n",
    "    return item_list\n",
    "\n",
    "def get_location(df: pd.DataFrame) -> list:\n",
    "    \"\"\"\n",
    "    Returns a list of unique items from the 'Location' column in the DataFrame.\n",
    "    \"\"\"\n",
    "    if 'Location' not in df.columns:\n",
    "        raise ValueError(\"DataFrame does not contain 'Location' column.\")\n",
    "    \n",
    "    item_list = sorted(df['Location'].dropna().unique().tolist())\n",
    "    return item_list\n",
    "\n",
    "def get_LocationWeight(df: pd.DataFrame) -> list:\n",
    "    \"\"\"\n",
    "    Returns a list of unique items from the 'Location Weight' column in the DataFrame.\n",
    "    \"\"\"\n",
    "    if 'Location Weight' not in df.columns:\n",
    "        raise ValueError(\"DataFrame does not contain 'Location Weight' column.\")\n",
    "    \n",
    "    item_list = sorted(df['Location Weight'].dropna().unique().tolist())\n",
    "    return item_list\n",
    "\n",
    "def get_location_weight_dict(df: pd.DataFrame) -> dict:\n",
    "    \"\"\"\n",
    "    Returns a dictionary where keys are Locations and values are their corresponding Location Weights.\n",
    "    \"\"\"\n",
    "    if 'Location' not in df.columns or 'Location Weight' not in df.columns:\n",
    "        raise ValueError(\"DataFrame must contain 'Location' and 'Location Weight' columns.\")\n",
    "\n",
    "    # 移除重複組合，確保一對一映射\n",
    "    location_weight_df = df[['Location', 'Location Weight']].drop_duplicates()\n",
    "    \n",
    "    # 轉為 dict\n",
    "    location_weight_dict = sorted(dict(zip(location_weight_df['Location'], location_weight_df['Location Weight'])))\n",
    "    return location_weight_dict\n",
    "\n",
    "def get_item_category_dict(df: pd.DataFrame) -> dict:\n",
    "    \"\"\"\n",
    "    Returns a dictionary where keys are Items and values are their corresponding Categories.\n",
    "    \"\"\"\n",
    "    if 'Item' not in df.columns or 'Category' not in df.columns:\n",
    "        raise ValueError(\"DataFrame must contain 'Item' and 'Category' columns.\")\n",
    "    \n",
    "    item_category_df = df[['Item', 'Category']].drop_duplicates()\n",
    "    item_category_dict = sorted(dict(zip(item_category_df['Item'], item_category_df['Category'])))\n",
    "    return item_category_dict\n",
    "\n",
    "def get_category_items_dict(df: pd.DataFrame) -> dict:\n",
    "    \"\"\"\n",
    "    Returns a dictionary where keys are Categories (sorted)\n",
    "    and values are sorted lists of corresponding Items.\n",
    "    \"\"\"\n",
    "    if 'Item' not in df.columns or 'Category' not in df.columns:\n",
    "        raise ValueError(\"DataFrame must contain 'Item' and 'Category' columns.\")\n",
    "\n",
    "    grouped = df[['Item', 'Category']].drop_duplicates()\n",
    "    grouped = grouped.groupby('Category')['Item'].apply(lambda x: sorted(x.tolist()))\n",
    "    return dict(sorted(grouped.to_dict().items()))"
   ]
  },
  {
   "cell_type": "code",
   "execution_count": null,
   "id": "a18769d6",
   "metadata": {},
   "outputs": [],
   "source": [
    "num_normal = 0\n",
    "num_abnormal = 0\n",
    "\n",
    "normal_data = []\n",
    "abnormal_data = []"
   ]
  }
 ],
 "metadata": {
  "kernelspec": {
   "display_name": ".venv",
   "language": "python",
   "name": "python3"
  },
  "language_info": {
   "codemirror_mode": {
    "name": "ipython",
    "version": 3
   },
   "file_extension": ".py",
   "mimetype": "text/x-python",
   "name": "python",
   "nbconvert_exporter": "python",
   "pygments_lexer": "ipython3",
   "version": "3.10.11"
  }
 },
 "nbformat": 4,
 "nbformat_minor": 5
}
